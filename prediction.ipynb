{
 "cells": [
  {
   "cell_type": "code",
   "execution_count": 47,
   "id": "e9427d0e-9ab5-46c6-8a9f-b7b3dfc2f5bf",
   "metadata": {},
   "outputs": [],
   "source": [
    "import tensorflow as tf\n",
    "import pandas as pd\n",
    "import numpy as np\n",
    "from tensorflow.keras.models import load_model\n",
    "import pickle"
   ]
  },
  {
   "cell_type": "code",
   "execution_count": 48,
   "id": "abf25da1-e790-47bb-8629-8f72d1469ff8",
   "metadata": {},
   "outputs": [
    {
     "name": "stderr",
     "output_type": "stream",
     "text": [
      "WARNING:absl:Compiled the loaded model, but the compiled metrics have yet to be built. `model.compile_metrics` will be empty until you train or evaluate the model.\n"
     ]
    }
   ],
   "source": [
    "### Load the trained model, scaler pickle,onehot\n",
    "model=load_model('model.h5')\n",
    "\n",
    "## load the encoder and scaler\n",
    "with open('columnTransformer.pkl','rb') as file:\n",
    "    ct=pickle.load(file)\n",
    "\n",
    "with open('scaler.pkl', 'rb') as file:\n",
    "    scaler = pickle.load(file)"
   ]
  },
  {
   "cell_type": "code",
   "execution_count": 30,
   "id": "d1b4acb9-2493-4512-a47d-caa07e8986d8",
   "metadata": {},
   "outputs": [],
   "source": [
    "# Example input data\n",
    "# input_data = {\n",
    "#     'CreditScore': 600,\n",
    "#     'Geography': 'France',\n",
    "#     'Gender': 'Male',\n",
    "#     'Age': 40,\n",
    "#     'Tenure': 3,\n",
    "#     'Balance': 60000,\n",
    "#     'NumOfProducts': 2,\n",
    "#     'HasCrCard': 1,\n",
    "#     'IsActiveMember': 1,\n",
    "#     'EstimatedSalary': 50000\n",
    "# }"
   ]
  },
  {
   "cell_type": "code",
   "execution_count": 49,
   "id": "00a27ac5-af14-415e-baa3-54e2ad3856f4",
   "metadata": {},
   "outputs": [],
   "source": [
    "input_data = [\n",
    "    [600, 'France', 'Male', 40, 3, 60000, 2, 1, 1, 50000]\n",
    "]\n"
   ]
  },
  {
   "cell_type": "code",
   "execution_count": 50,
   "id": "87f2f730-29cf-497c-a605-2d6afbee4634",
   "metadata": {},
   "outputs": [
    {
     "data": {
      "text/plain": [
       "array([[1.0, 0.0, 0.0, 0.0, 1.0, 600, 40, 3, 60000, 2, 1, 1, 50000]],\n",
       "      dtype=object)"
      ]
     },
     "execution_count": 50,
     "metadata": {},
     "output_type": "execute_result"
    }
   ],
   "source": [
    "x =np.array(ct.transform(input_data))\n",
    "x"
   ]
  },
  {
   "cell_type": "code",
   "execution_count": 51,
   "id": "6f87193e-56a1-4b54-baa5-0d239562fef1",
   "metadata": {},
   "outputs": [
    {
     "data": {
      "text/plain": [
       "array([[1.0, 0.0, 0.0, 0.0, 1.0, -0.5359851613060699,\n",
       "        0.10479359289024653, -0.695393486155178, -0.2578111881087735,\n",
       "        0.8084361535388407, 0.6492026709982338, 0.9748169889123993,\n",
       "        -0.8768322080152661]], dtype=object)"
      ]
     },
     "execution_count": 51,
     "metadata": {},
     "output_type": "execute_result"
    }
   ],
   "source": [
    "x[:, 5:]=scaler.transform(x[:, 5:])\n",
    "x"
   ]
  },
  {
   "cell_type": "code",
   "execution_count": 54,
   "id": "cc2514d0-6695-40b9-934e-e926761f8ff1",
   "metadata": {},
   "outputs": [],
   "source": [
    "input_scaled = x.astype('float32')"
   ]
  },
  {
   "cell_type": "code",
   "execution_count": 55,
   "id": "ecc0b8db-c5b5-4f27-a575-d88077d5b1b0",
   "metadata": {},
   "outputs": [
    {
     "name": "stdout",
     "output_type": "stream",
     "text": [
      "\u001b[1m1/1\u001b[0m \u001b[32m━━━━━━━━━━━━━━━━━━━━\u001b[0m\u001b[37m\u001b[0m \u001b[1m0s\u001b[0m 82ms/step\n"
     ]
    },
    {
     "data": {
      "text/plain": [
       "array([[0.03802957]], dtype=float32)"
      ]
     },
     "execution_count": 55,
     "metadata": {},
     "output_type": "execute_result"
    }
   ],
   "source": [
    "prediction=model.predict(input_scaled)\n",
    "prediction"
   ]
  },
  {
   "cell_type": "code",
   "execution_count": 56,
   "id": "687d78f7-5b04-4c75-8df8-69c01faca60e",
   "metadata": {},
   "outputs": [],
   "source": [
    "prediction_proba = prediction[0][0]"
   ]
  },
  {
   "cell_type": "code",
   "execution_count": 58,
   "id": "446138f3-814e-467d-9a34-f80740185e64",
   "metadata": {},
   "outputs": [
    {
     "data": {
      "text/plain": [
       "0.03802957013249397"
      ]
     },
     "execution_count": 58,
     "metadata": {},
     "output_type": "execute_result"
    }
   ],
   "source": [
    "float(prediction_proba)"
   ]
  },
  {
   "cell_type": "code",
   "execution_count": 59,
   "id": "3052a40b-02ab-42c2-ba7f-8ca87ffcc682",
   "metadata": {},
   "outputs": [
    {
     "name": "stdout",
     "output_type": "stream",
     "text": [
      "The customer is not likely to churn.\n"
     ]
    }
   ],
   "source": [
    "if prediction_proba > 0.5:\n",
    "    print('The customer is likely to churn.')\n",
    "else:\n",
    "    print('The customer is not likely to churn.')"
   ]
  },
  {
   "cell_type": "markdown",
   "id": "d9791539-a740-4c69-b10d-a8a7b0493b4f",
   "metadata": {},
   "source": [
    "### finished"
   ]
  },
  {
   "cell_type": "code",
   "execution_count": null,
   "id": "44b1bacf-ee1b-4761-88c3-5f714e3fb418",
   "metadata": {},
   "outputs": [],
   "source": []
  }
 ],
 "metadata": {
  "kernelspec": {
   "display_name": "Python 3 (ipykernel)",
   "language": "python",
   "name": "python3"
  },
  "language_info": {
   "codemirror_mode": {
    "name": "ipython",
    "version": 3
   },
   "file_extension": ".py",
   "mimetype": "text/x-python",
   "name": "python",
   "nbconvert_exporter": "python",
   "pygments_lexer": "ipython3",
   "version": "3.12.3"
  }
 },
 "nbformat": 4,
 "nbformat_minor": 5
}
